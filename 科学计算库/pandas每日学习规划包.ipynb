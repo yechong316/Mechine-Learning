{
 "cells": [
  {
   "cell_type": "code",
   "execution_count": 1,
   "metadata": {
    "collapsed": true
   },
   "outputs": [],
   "source": [
    "import numpy as np\n",
    "import pandas as pd"
   ]
  },
  {
   "cell_type": "markdown",
   "metadata": {},
   "source": [
    "# Object Creation"
   ]
  },
  {
   "cell_type": "code",
   "execution_count": 40,
   "metadata": {
    "collapsed": false
   },
   "outputs": [],
   "source": [
    "df = pd.read_csv(r\"D:\\人工智能\\数据集\\energydata_complete_1000.csv\")\n",
    "# df2"
   ]
  },
  {
   "cell_type": "code",
   "execution_count": 43,
   "metadata": {
    "collapsed": false
   },
   "outputs": [
    {
     "name": "stdout",
     "output_type": "stream",
     "text": [
      "<class 'pandas.core.frame.DataFrame'>\n",
      "RangeIndex: 1182 entries, 0 to 1181\n",
      "Data columns (total 29 columns):\n",
      "date           1182 non-null object\n",
      "Appliances     1182 non-null int64\n",
      "lights         1182 non-null int64\n",
      "T1             1182 non-null float64\n",
      "RH_1           1182 non-null float64\n",
      "T2             1182 non-null float64\n",
      "RH_2           1182 non-null float64\n",
      "T3             1182 non-null float64\n",
      "RH_3           1182 non-null float64\n",
      "T4             1182 non-null float64\n",
      "RH_4           1182 non-null float64\n",
      "T5             1182 non-null float64\n",
      "RH_5           1182 non-null float64\n",
      "T6             1182 non-null float64\n",
      "RH_6           1182 non-null float64\n",
      "T7             1182 non-null float64\n",
      "RH_7           1182 non-null float64\n",
      "T8             1182 non-null float64\n",
      "RH_8           1182 non-null float64\n",
      "T9             1182 non-null float64\n",
      "RH_9           1182 non-null float64\n",
      "T_out          1182 non-null float64\n",
      "Press_mm_hg    1182 non-null float64\n",
      "RH_out         1182 non-null float64\n",
      "Windspeed      1182 non-null float64\n",
      "Visibility     1182 non-null float64\n",
      "Tdewpoint      1182 non-null float64\n",
      "rv1            1182 non-null float64\n",
      "rv2            1182 non-null float64\n",
      "dtypes: float64(26), int64(2), object(1)\n",
      "memory usage: 267.9+ KB\n"
     ]
    }
   ],
   "source": [
    "df.info()"
   ]
  },
  {
   "cell_type": "code",
   "execution_count": 42,
   "metadata": {
    "collapsed": false
   },
   "outputs": [
    {
     "data": {
      "text/html": [
       "<div>\n",
       "<style>\n",
       "    .dataframe thead tr:only-child th {\n",
       "        text-align: right;\n",
       "    }\n",
       "\n",
       "    .dataframe thead th {\n",
       "        text-align: left;\n",
       "    }\n",
       "\n",
       "    .dataframe tbody tr th {\n",
       "        vertical-align: top;\n",
       "    }\n",
       "</style>\n",
       "<table border=\"1\" class=\"dataframe\">\n",
       "  <thead>\n",
       "    <tr style=\"text-align: right;\">\n",
       "      <th></th>\n",
       "      <th>date</th>\n",
       "      <th>Appliances</th>\n",
       "      <th>lights</th>\n",
       "      <th>T1</th>\n",
       "      <th>RH_1</th>\n",
       "      <th>T2</th>\n",
       "      <th>RH_2</th>\n",
       "      <th>T3</th>\n",
       "      <th>RH_3</th>\n",
       "      <th>T4</th>\n",
       "      <th>...</th>\n",
       "      <th>T9</th>\n",
       "      <th>RH_9</th>\n",
       "      <th>T_out</th>\n",
       "      <th>Press_mm_hg</th>\n",
       "      <th>RH_out</th>\n",
       "      <th>Windspeed</th>\n",
       "      <th>Visibility</th>\n",
       "      <th>Tdewpoint</th>\n",
       "      <th>rv1</th>\n",
       "      <th>rv2</th>\n",
       "    </tr>\n",
       "  </thead>\n",
       "  <tbody>\n",
       "    <tr>\n",
       "      <th>1180</th>\n",
       "      <td>2016/1/19 21:40</td>\n",
       "      <td>100</td>\n",
       "      <td>10</td>\n",
       "      <td>19.70</td>\n",
       "      <td>39.530000</td>\n",
       "      <td>18.89</td>\n",
       "      <td>39.566667</td>\n",
       "      <td>20.100000</td>\n",
       "      <td>40.026667</td>\n",
       "      <td>20.10</td>\n",
       "      <td>...</td>\n",
       "      <td>16.29</td>\n",
       "      <td>34.863333</td>\n",
       "      <td>-3.90</td>\n",
       "      <td>758.2</td>\n",
       "      <td>92.0</td>\n",
       "      <td>1.333333</td>\n",
       "      <td>61.0</td>\n",
       "      <td>-5.07</td>\n",
       "      <td>19.232418</td>\n",
       "      <td>19.232418</td>\n",
       "    </tr>\n",
       "    <tr>\n",
       "      <th>1181</th>\n",
       "      <td>2016/1/19 21:50</td>\n",
       "      <td>110</td>\n",
       "      <td>10</td>\n",
       "      <td>19.73</td>\n",
       "      <td>39.333333</td>\n",
       "      <td>18.89</td>\n",
       "      <td>39.400000</td>\n",
       "      <td>20.033333</td>\n",
       "      <td>39.766667</td>\n",
       "      <td>19.96</td>\n",
       "      <td>...</td>\n",
       "      <td>16.29</td>\n",
       "      <td>34.730000</td>\n",
       "      <td>-3.75</td>\n",
       "      <td>758.2</td>\n",
       "      <td>91.5</td>\n",
       "      <td>1.166667</td>\n",
       "      <td>61.0</td>\n",
       "      <td>-4.98</td>\n",
       "      <td>17.204608</td>\n",
       "      <td>17.204608</td>\n",
       "    </tr>\n",
       "  </tbody>\n",
       "</table>\n",
       "<p>2 rows × 29 columns</p>\n",
       "</div>"
      ],
      "text/plain": [
       "                 date  Appliances  lights     T1       RH_1     T2       RH_2  \\\n",
       "1180  2016/1/19 21:40         100      10  19.70  39.530000  18.89  39.566667   \n",
       "1181  2016/1/19 21:50         110      10  19.73  39.333333  18.89  39.400000   \n",
       "\n",
       "             T3       RH_3     T4    ...         T9       RH_9  T_out  \\\n",
       "1180  20.100000  40.026667  20.10    ...      16.29  34.863333  -3.90   \n",
       "1181  20.033333  39.766667  19.96    ...      16.29  34.730000  -3.75   \n",
       "\n",
       "      Press_mm_hg  RH_out  Windspeed  Visibility  Tdewpoint        rv1  \\\n",
       "1180        758.2    92.0   1.333333        61.0      -5.07  19.232418   \n",
       "1181        758.2    91.5   1.166667        61.0      -4.98  17.204608   \n",
       "\n",
       "            rv2  \n",
       "1180  19.232418  \n",
       "1181  17.204608  \n",
       "\n",
       "[2 rows x 29 columns]"
      ]
     },
     "execution_count": 42,
     "metadata": {},
     "output_type": "execute_result"
    }
   ],
   "source": [
    "df.tail(2)"
   ]
  },
  {
   "cell_type": "code",
   "execution_count": 46,
   "metadata": {
    "collapsed": false
   },
   "outputs": [
    {
     "name": "stdout",
     "output_type": "stream",
     "text": [
      "df.index: RangeIndex(start=0, stop=1182, step=1)\n",
      "df.columns: Index(['date', 'Appliances', 'lights', 'T1', 'RH_1', 'T2', 'RH_2', 'T3',\n",
      "       'RH_3', 'T4', 'RH_4', 'T5', 'RH_5', 'T6', 'RH_6', 'T7', 'RH_7', 'T8',\n",
      "       'RH_8', 'T9', 'RH_9', 'T_out', 'Press_mm_hg', 'RH_out', 'Windspeed',\n",
      "       'Visibility', 'Tdewpoint', 'rv1', 'rv2'],\n",
      "      dtype='object')\n"
     ]
    }
   ],
   "source": [
    "print('df.index:', df.index)\n",
    "print('df.columns:', df.columns)"
   ]
  },
  {
   "cell_type": "code",
   "execution_count": 48,
   "metadata": {
    "collapsed": false
   },
   "outputs": [
    {
     "ename": "AttributeError",
     "evalue": "'DataFrame' object has no attribute 'to_numpy'",
     "output_type": "error",
     "traceback": [
      "\u001b[0;31m---------------------------------------------------------------------------\u001b[0m",
      "\u001b[0;31mAttributeError\u001b[0m                            Traceback (most recent call last)",
      "\u001b[0;32m<ipython-input-48-34dc1d3a9b92>\u001b[0m in \u001b[0;36m<module>\u001b[0;34m()\u001b[0m\n\u001b[0;32m----> 1\u001b[0;31m \u001b[0mdf\u001b[0m\u001b[1;33m.\u001b[0m\u001b[0mto_numpy\u001b[0m\u001b[1;33m(\u001b[0m\u001b[1;33m)\u001b[0m\u001b[1;33m\u001b[0m\u001b[0m\n\u001b[0m",
      "\u001b[0;32mC:\\Users\\yanguowei\\Anaconda3\\lib\\site-packages\\pandas\\core\\generic.py\u001b[0m in \u001b[0;36m__getattr__\u001b[0;34m(self, name)\u001b[0m\n\u001b[1;32m   3079\u001b[0m             \u001b[1;32mif\u001b[0m \u001b[0mname\u001b[0m \u001b[1;32min\u001b[0m \u001b[0mself\u001b[0m\u001b[1;33m.\u001b[0m\u001b[0m_info_axis\u001b[0m\u001b[1;33m:\u001b[0m\u001b[1;33m\u001b[0m\u001b[0m\n\u001b[1;32m   3080\u001b[0m                 \u001b[1;32mreturn\u001b[0m \u001b[0mself\u001b[0m\u001b[1;33m[\u001b[0m\u001b[0mname\u001b[0m\u001b[1;33m]\u001b[0m\u001b[1;33m\u001b[0m\u001b[0m\n\u001b[0;32m-> 3081\u001b[0;31m             \u001b[1;32mreturn\u001b[0m \u001b[0mobject\u001b[0m\u001b[1;33m.\u001b[0m\u001b[0m__getattribute__\u001b[0m\u001b[1;33m(\u001b[0m\u001b[0mself\u001b[0m\u001b[1;33m,\u001b[0m \u001b[0mname\u001b[0m\u001b[1;33m)\u001b[0m\u001b[1;33m\u001b[0m\u001b[0m\n\u001b[0m\u001b[1;32m   3082\u001b[0m \u001b[1;33m\u001b[0m\u001b[0m\n\u001b[1;32m   3083\u001b[0m     \u001b[1;32mdef\u001b[0m \u001b[0m__setattr__\u001b[0m\u001b[1;33m(\u001b[0m\u001b[0mself\u001b[0m\u001b[1;33m,\u001b[0m \u001b[0mname\u001b[0m\u001b[1;33m,\u001b[0m \u001b[0mvalue\u001b[0m\u001b[1;33m)\u001b[0m\u001b[1;33m:\u001b[0m\u001b[1;33m\u001b[0m\u001b[0m\n",
      "\u001b[0;31mAttributeError\u001b[0m: 'DataFrame' object has no attribute 'to_numpy'"
     ]
    }
   ],
   "source": [
    "df.to_numpy()"
   ]
  },
  {
   "cell_type": "code",
   "execution_count": null,
   "metadata": {
    "collapsed": true
   },
   "outputs": [],
   "source": [
    "df.describe"
   ]
  }
 ],
 "metadata": {
  "anaconda-cloud": {},
  "kernelspec": {
   "display_name": "Python [conda root]",
   "language": "python",
   "name": "conda-root-py"
  },
  "language_info": {
   "codemirror_mode": {
    "name": "ipython",
    "version": 3
   },
   "file_extension": ".py",
   "mimetype": "text/x-python",
   "name": "python",
   "nbconvert_exporter": "python",
   "pygments_lexer": "ipython3",
   "version": "3.5.2"
  }
 },
 "nbformat": 4,
 "nbformat_minor": 1
}
